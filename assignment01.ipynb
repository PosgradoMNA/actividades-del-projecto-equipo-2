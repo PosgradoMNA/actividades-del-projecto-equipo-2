{
  "nbformat": 4,
  "nbformat_minor": 0,
  "metadata": {
    "colab": {
      "name": "assignment01.ipynb",
      "provenance": [],
      "include_colab_link": true
    },
    "kernelspec": {
      "name": "python3",
      "display_name": "Python 3"
    },
    "language_info": {
      "name": "python"
    }
  },
  "cells": [
    {
      "cell_type": "markdown",
      "metadata": {
        "id": "view-in-github",
        "colab_type": "text"
      },
      "source": [
        "<a href=\"https://colab.research.google.com/github/PosgradoMNA/actividades-del-projecto-equipo-2/blob/main/assignment01.ipynb\" target=\"_parent\"><img src=\"https://colab.research.google.com/assets/colab-badge.svg\" alt=\"Open In Colab\"/></a>"
      ]
    },
    {
      "cell_type": "code",
      "execution_count": null,
      "metadata": {
        "id": "LzUSMM79NR9P",
        "outputId": "0e6cb421-1096-426a-b31a-f61d059def81",
        "colab": {
          "base_uri": "https://localhost:8080/"
        }
      },
      "outputs": [
        {
          "output_type": "stream",
          "name": "stdout",
          "text": [
            "assignment01 for GitJobish03 and edited in git, and 18\n"
          ]
        }
      ],
      "source": [
        "print('assignment01 for GitJobish03 and edited in git, and 18')"
      ]
    },
    {
      "cell_type": "markdown",
      "source": [
        "\n",
        "*   El nombre que caracteriza el conjunto de datos:\n",
        "*   La organización que lo generó:\n",
        "*   Incluya un enlace de Internet donde se puedan descargar en línea y enviar como una hoja de cálculo junto con su informe correspondiente:\n",
        "*   Describe el conjunto de datos. ¿Qué datos contiene?\n",
        "*   ¿Cuáles son algunas de las preguntas de investigación que podría responder con estos datos? Enumere al menos OCHO (no responda las preguntas)\n",
        "*   ¿Qué actor (empresa, sector de la sociedad, organismo descentralizado, gobierno, etc.) estaría interesado en las preguntas mencionadas que identificó?"
      ],
      "metadata": {
        "id": "VELy1sO0P0Uq"
      }
    },
    {
      "cell_type": "markdown",
      "source": [
        "## **ACTIVIDAD 1 DEL PROYECTO FINAL**"
      ],
      "metadata": {
        "id": "x0IBco5jY2yB"
      }
    },
    {
      "cell_type": "markdown",
      "source": [
        "##**Nombre:** Music Dataset (1950 to 2019)"
      ],
      "metadata": {
        "id": "2bejhzjKQiQS"
      }
    },
    {
      "cell_type": "markdown",
      "source": [
        "##**Organización que lo generó:** Mendeley Data"
      ],
      "metadata": {
        "id": "kUbrx2cFZFLQ"
      }
    },
    {
      "cell_type": "markdown",
      "source": [
        "##**Incluya un enlace de Internet donde se pueda descargar dataset en línea**:\n",
        "* [KAGGLE](https://www.kaggle.com/datasets/vicsuperman/prediction-of-music-genre)\n",
        "* [DATA MENDELEY](https://data.mendeley.com/v1/datasets/compare/3t9vbwxgr5/3/2)\n",
        "* [DATASET - HOJA DE CÁLCULO](https://github.com/PosgradoMNA/actividades-del-projecto-equipo-2/blob/main/tcc_ceds_music.csv.zip)"
      ],
      "metadata": {
        "id": "RHoczkRWbTsL"
      }
    },
    {
      "cell_type": "markdown",
      "source": [
        "##**Describe el conjunto de datos:** \n",
        "El conjunto de datos seleccionado contiene 28,373 filas.\n",
        "Incluye el año de publicación, artista, género musical, nombre de la canción, letra de canciones, entre otras variables para clasificar el tipo de música y canciones incluidas."
      ],
      "metadata": {
        "id": "l-PkqSsfYx1c"
      }
    },
    {
      "cell_type": "markdown",
      "source": [
        "##**¿Cuáles son algunas de las preguntas de investigación que podría responder con estos datos?** \n",
        "\n",
        "1.   ¿Cómo fue cambiando la preferencia del género musical con el paso de los años?\n",
        "2.   ¿Cuáles fueron los artistas más populares en cada año?\n",
        "3.   ¿Cuáles fueron los artistas más escuchados en cada género?\n",
        "4.   ¿Qué sentimiento predominó en cada año?\n",
        "5.   ¿Qué semtimiento influyó en cada género?\n",
        "6.   ¿Cuál es la relación del artista con los temas y sentimientos que producen?\n",
        "7.   ¿Qué tipos de letras o palabras destacan con cada género musical?\n",
        "8.   ¿Qué tan bailables se consideran las canciones según su género?\n",
        "\n"
      ],
      "metadata": {
        "id": "X1ndlQDqb-az"
      }
    },
    {
      "cell_type": "markdown",
      "source": [
        "##**¿Qué actor estaría interesado en las preguntas mencionadas que identificó?**\n",
        "* Industria musical y del entretenimiento.\n",
        "* Empresas: Spotity, Amazon Music, YouTube Music, Apple Music, Tidal, entre otras.\n",
        "* Usuarios (interesados en playlist por tema, género, sentimientos, etc.)"
      ],
      "metadata": {
        "id": "2F9JcROSgZnb"
      }
    }
  ]
}