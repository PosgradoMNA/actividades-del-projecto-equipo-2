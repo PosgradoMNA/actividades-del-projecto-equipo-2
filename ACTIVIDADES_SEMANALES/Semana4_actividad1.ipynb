{
  "nbformat": 4,
  "nbformat_minor": 0,
  "metadata": {
    "colab": {
      "provenance": [],
      "authorship_tag": "ABX9TyNCRUT3zugvRgep1nM+QA8Q",
      "include_colab_link": true
    },
    "kernelspec": {
      "name": "python3",
      "display_name": "Python 3"
    },
    "language_info": {
      "name": "python"
    }
  },
  "cells": [
    {
      "cell_type": "markdown",
      "metadata": {
        "id": "view-in-github",
        "colab_type": "text"
      },
      "source": [
        "<a href=\"https://colab.research.google.com/github/PosgradoMNA/actividades-del-projecto-equipo-2/blob/main/ACTIVIDADES_SEMANALES/Semana4_actividad1.ipynb\" target=\"_parent\"><img src=\"https://colab.research.google.com/assets/colab-badge.svg\" alt=\"Open In Colab\"/></a>"
      ]
    },
    {
      "cell_type": "markdown",
      "source": [
        "#**ACTIVIDAD SEMANAL -- 4**"
      ],
      "metadata": {
        "id": "gcqOJSjbQ_Ty"
      }
    },
    {
      "cell_type": "markdown",
      "source": [
        "* **Equipo:** 2\n",
        "* **Integrantes:** Andrea Carolina Treviño Garza (A01034993),\n",
        "Mario Alberto Corona Cadenas (A01793016)"
      ],
      "metadata": {
        "id": "1JyCYnAbQYD6"
      }
    },
    {
      "cell_type": "markdown",
      "source": [
        "###**Parte 1: Ejercicio guiado** : Revise el ejercicio guiado para el análisis de componentes principales utilizando el conjunto de datos "
      ],
      "metadata": {
        "id": "3WBKceNBRL7g"
      }
    },
    {
      "cell_type": "markdown",
      "source": [
        "Paso 1: Determine el número mínimo de componentes principales que representan la mayor parte de la variación en sus datos\n",
        "* Utilice la proporción acumulada de la varianza que explican los componentes para determinar la cantidad de varianza que explican los componentes principales"
      ],
      "metadata": {
        "id": "Om_FfItORaSA"
      }
    },
    {
      "cell_type": "code",
      "source": [],
      "metadata": {
        "id": "DQrrM6iXR9fm"
      },
      "execution_count": null,
      "outputs": []
    },
    {
      "cell_type": "code",
      "execution_count": null,
      "metadata": {
        "id": "2qj7lbKaQUcC"
      },
      "outputs": [],
      "source": []
    },
    {
      "cell_type": "markdown",
      "source": [
        "Paso 2: Interprete cada componente principal en términos de las variables originales\n",
        "* Examine la magnitud y la dirección de los coeficientes de las variables originales.\n",
        "*Nota: Cuanto mayor sea el valor absoluto del coeficiente, más importante será la variable correspondiente en el cálculo del componente.*"
      ],
      "metadata": {
        "id": "aMDc2DVvRdCf"
      }
    },
    {
      "cell_type": "code",
      "source": [],
      "metadata": {
        "id": "Nreix33dR8gy"
      },
      "execution_count": null,
      "outputs": []
    },
    {
      "cell_type": "code",
      "source": [],
      "metadata": {
        "id": "3BeaonoDR86N"
      },
      "execution_count": null,
      "outputs": []
    },
    {
      "cell_type": "markdown",
      "source": [
        "Paso 3: Identifique valores atípicos.\n",
        "* Realice alguna gráfica de valores atípicos o boxplot para identificar los valores atípicos. Cualquier punto que esté más alejado de la línea de referencia es un valor atípico."
      ],
      "metadata": {
        "id": "zPV4yLFkSTMA"
      }
    },
    {
      "cell_type": "code",
      "source": [],
      "metadata": {
        "id": "ndjB5_vAS_0g"
      },
      "execution_count": null,
      "outputs": []
    },
    {
      "cell_type": "code",
      "source": [],
      "metadata": {
        "id": "EQ-dfQ1aS_on"
      },
      "execution_count": null,
      "outputs": []
    },
    {
      "cell_type": "markdown",
      "source": [
        "###**Parte 2:** Responde las siguientes preguntas en una celda de texto en Jupyter Notebook"
      ],
      "metadata": {
        "id": "v3L6JO_CSyE_"
      }
    },
    {
      "cell_type": "markdown",
      "source": [
        "1.   ¿Cuál es el número de componentes mínimo y por qué?\n",
        "\n"
      ],
      "metadata": {
        "id": "oJbfKD2cS_FX"
      }
    },
    {
      "cell_type": "markdown",
      "source": [
        "2.   ¿Cuál es la variación de los datos que representan esos componentes?"
      ],
      "metadata": {
        "id": "sMraSHFnTJ2n"
      }
    },
    {
      "cell_type": "markdown",
      "source": [
        "3.   ¿Cuál es la pérdida de información después de realizar PCA?"
      ],
      "metadata": {
        "id": "j-cU6F8RTRdK"
      }
    },
    {
      "cell_type": "markdown",
      "source": [
        "4.   De las variables originales, ¿Cuál tiene mayor y cuál tiene menor importancia en los componentes principales?"
      ],
      "metadata": {
        "id": "rrlQGdoxTaCW"
      }
    },
    {
      "cell_type": "markdown",
      "source": [
        "5.   ¿Cuándo se recomienda realizar un PCA y qué beneficios ofrece para Machine Learning?"
      ],
      "metadata": {
        "id": "vjLrMKnHTbpn"
      }
    }
  ]
}